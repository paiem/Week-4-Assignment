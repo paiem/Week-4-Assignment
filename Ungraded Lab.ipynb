{
 "cells": [
  {
   "cell_type": "markdown",
   "metadata": {},
   "source": [
    "<center>\n",
    "    <img src=\"https://cf-courses-data.s3.us.cloud-object-storage.appdomain.cloud/IBMDeveloperSkillsNetwork-DS0105EN-SkillsNetwork/labs/Module2/images/SN_web_lightmode.png\" width=\"300\" alt=\"cognitiveclass.ai logo\">\n",
    "</center>\n"
   ]
  },
  {
   "cell_type": "markdown",
   "metadata": {},
   "source": [
    "#### Add your code below following the instructions given in the course\n"
   ]
  },
  {
   "cell_type": "markdown",
   "metadata": {},
   "source": [
    "# My Jupiter Notebook on IBM Watson Studio"
   ]
  },
  {
   "cell_type": "markdown",
   "metadata": {},
   "source": [
    "**Emily Pai** <br> Designer"
   ]
  },
  {
   "cell_type": "markdown",
   "metadata": {},
   "source": [
    "*I am interested in data science because it seems like a really fun field, and I'm looking forward to learning more about it!*"
   ]
  },
  {
   "cell_type": "markdown",
   "metadata": {},
   "source": [
    "### The code below first shows the sum of 7 and 12. It then shows the result of multiplying 7 and 12."
   ]
  },
  {
   "cell_type": "code",
   "execution_count": 4,
   "metadata": {},
   "outputs": [
    {
     "name": "stdout",
     "output_type": "stream",
     "text": [
      "19\n",
      "84\n"
     ]
    }
   ],
   "source": [
    "a=7\n",
    "b=12\n",
    "\n",
    "print(a + b)\n",
    "print(a*b)"
   ]
  },
  {
   "cell_type": "markdown",
   "metadata": {
    "tags": []
   },
   "source": [
    "### How much sleep you need [according to the CDC](https://www.cdc.gov/sleep/features/getting-enough-sleep.html)\n",
    "\n",
    "|Age Group|Age|Recommended Hours of Sleep|\n",
    "|:-|:-|:-|\n",
    "|Infant|4-12 months|12-16 hours per 24 hours (including naps)|\n",
    "|Toddler|1-2 years|11-14 hours per 24 hours (including naps)|\n",
    "|Pre-School|3-5 years|10-13 hours per 24 hours (including naps)|\n",
    "|School Age|6-12 years|9-12 hours per 24 hours|\n",
    "|Teen|13-18 years|8-10 hours per 24 hours|\n",
    "|Adult|18-60 years|7 or more hours per night|\n",
    "\n",
    "\n",
    "![Tired img](https://images.pexels.com/photos/2871490/pexels-photo-2871490.jpeg?auto=compress&cs=tinysrgb&w=1260&h=750&dpr=1)\n",
    "*Source: [Pexels](https://www.pexels.com/photo/person-on-red-grocery-cart-2871490/)*"
   ]
  },
  {
   "cell_type": "code",
   "execution_count": null,
   "metadata": {},
   "outputs": [],
   "source": []
  }
 ],
 "metadata": {
  "kernelspec": {
   "display_name": "Python",
   "language": "python",
   "name": "conda-env-python-py"
  },
  "language_info": {
   "codemirror_mode": {
    "name": "ipython",
    "version": 3
   },
   "file_extension": ".py",
   "mimetype": "text/x-python",
   "name": "python",
   "nbconvert_exporter": "python",
   "pygments_lexer": "ipython3",
   "version": "3.7.12"
  }
 },
 "nbformat": 4,
 "nbformat_minor": 4
}
