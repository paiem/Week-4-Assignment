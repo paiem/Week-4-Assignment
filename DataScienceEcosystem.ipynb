{
 "cells": [
  {
   "cell_type": "markdown",
   "id": "be1025aa-9e26-48b6-924d-3f47b8ce1ebd",
   "metadata": {},
   "source": [
    "# Data Science Tools and Ecosystem"
   ]
  },
  {
   "cell_type": "markdown",
   "id": "bb4258a4-76f8-4087-8b9f-83f0473b1a91",
   "metadata": {},
   "source": [
    "In this notebook, Data Science Tools and Ecosystems are summarized."
   ]
  },
  {
   "cell_type": "markdown",
   "id": "ec06d7f6-7923-471a-963b-1299746a621c",
   "metadata": {},
   "source": [
    "Some of the popular languages that Data Scientists use are:\n",
    "1. Python\n",
    "1. R\n",
    "1. SQL\n",
    "1. Java\n",
    "1. Javascript"
   ]
  },
  {
   "cell_type": "markdown",
   "id": "aeb9b1f7-0469-4945-88f0-faef32ce8ad9",
   "metadata": {},
   "source": [
    "Some of the commonly used libraries used by Data Scientists include:\n",
    "1. TensorFlow\n",
    "1. NumPy\n",
    "1. SciPy\n",
    "1. Pandas"
   ]
  },
  {
   "cell_type": "markdown",
   "id": "d6a78a0f-ce45-4d02-b750-64d310816afb",
   "metadata": {},
   "source": [
    "|Data Science Tools|\n",
    "|---|\n",
    "|RStudio|\n",
    "|Jupyter Notebooks|\n",
    "|IBM Watson Studio|"
   ]
  },
  {
   "cell_type": "markdown",
   "id": "7573a82a-3fdd-432d-ac60-e1a7fa9aff4b",
   "metadata": {},
   "source": [
    "### Below are a few examples of evaluating arithmetic expressions in Python"
   ]
  },
  {
   "cell_type": "code",
   "execution_count": 1,
   "id": "88981554-293f-45e8-bbca-b1af6269d504",
   "metadata": {},
   "outputs": [
    {
     "data": {
      "text/plain": [
       "17"
      ]
     },
     "execution_count": 1,
     "metadata": {},
     "output_type": "execute_result"
    }
   ],
   "source": [
    "# This is a simple arithmetic expression to multiply then add integers.\n",
    "(3*4)+5"
   ]
  },
  {
   "cell_type": "code",
   "execution_count": 7,
   "id": "cf7f3630-3d8a-4ab7-b0a4-fa60594850c4",
   "metadata": {},
   "outputs": [
    {
     "name": "stdout",
     "output_type": "stream",
     "text": [
      "3:20\n"
     ]
    }
   ],
   "source": [
    "# This will convert 200 minutes to hours by dividing by 60. Output will show (Hours:Minutes)\n",
    "\n",
    "total_minutes = 200\n",
    "hours = total_minutes // 60\n",
    "minutes = total_minutes % 60\n",
    "time_string = \"{}:{}\" .format(hours, minutes)\n",
    "\n",
    "print(time_string)"
   ]
  },
  {
   "cell_type": "markdown",
   "id": "5fadd16b-53d4-437b-b1cf-d9c36417f28d",
   "metadata": {},
   "source": [
    "**Objectives**\n",
    "* List of some popular languages for Data Science\n",
    "* List of some commonly used libraries by Data Scientists\n",
    "* A list of some Data Science Tools"
   ]
  },
  {
   "cell_type": "markdown",
   "id": "e100491d-3e0a-4b4a-a39b-ea641c6a21fb",
   "metadata": {},
   "source": [
    "## Author\n",
    "Emily Pai"
   ]
  },
  {
   "cell_type": "code",
   "execution_count": null,
   "id": "8bd3a4cc-ab45-43a4-8c15-547772c8cbb4",
   "metadata": {},
   "outputs": [],
   "source": []
  }
 ],
 "metadata": {
  "kernelspec": {
   "display_name": "Python",
   "language": "python",
   "name": "conda-env-python-py"
  },
  "language_info": {
   "codemirror_mode": {
    "name": "ipython",
    "version": 3
   },
   "file_extension": ".py",
   "mimetype": "text/x-python",
   "name": "python",
   "nbconvert_exporter": "python",
   "pygments_lexer": "ipython3",
   "version": "3.7.12"
  }
 },
 "nbformat": 4,
 "nbformat_minor": 5
}
